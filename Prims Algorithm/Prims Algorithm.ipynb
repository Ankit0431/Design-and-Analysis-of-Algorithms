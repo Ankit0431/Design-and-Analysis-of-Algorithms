{
 "cells": [
  {
   "cell_type": "code",
   "execution_count": 1,
   "id": "74895cb2",
   "metadata": {},
   "outputs": [
    {
     "name": "stdout",
     "output_type": "stream",
     "text": [
      "Requirement already satisfied: geopy in c:\\users\\dell\\anaconda3\\lib\\site-packages (2.4.1)\n",
      "Requirement already satisfied: geographiclib<3,>=1.52 in c:\\users\\dell\\anaconda3\\lib\\site-packages (from geopy) (2.0)\n",
      "Note: you may need to restart the kernel to use updated packages.\n"
     ]
    }
   ],
   "source": [
    "pip install geopy"
   ]
  },
  {
   "cell_type": "markdown",
   "id": "f2d5683e",
   "metadata": {},
   "source": [
    "## Greedy Algorithms\n",
    "### Prims algorithm"
   ]
  },
  {
   "cell_type": "markdown",
   "id": "e4b3e1fe",
   "metadata": {},
   "source": [
    "We learn prims algorithm using a real life application\n",
    "\n",
    "A telecommunications organization has offices spanned across multiple\n",
    "locations around the globe. It has to use leased phone lines for connecting all these offices with\n",
    "each other. The organization, wants to use minimum cost for connecting all its offices. This\n",
    "requires that all the offices should be connected using a minimum number of leased lines so as to\n",
    "reduce the effective cost.\n",
    "\n",
    "Consider the following for deciding connections in same state in India:\n",
    "i. Find the latitude and longitude of cities in same state. Consider 4 to 6 cities.\n",
    "ii. Calculate the cost of connecting each pair of offices by computing the distance\n",
    "between different pair of different cities (as considered in part A) and construct a\n",
    "fully connected graph.\n",
    "\n",
    "We use Python Liberary geopy for getting latitude and laungitudes of different cities and calcualting distances based on them"
   ]
  },
  {
   "cell_type": "code",
   "execution_count": 2,
   "id": "6bb0098e",
   "metadata": {},
   "outputs": [],
   "source": [
    "from geopy.geocoders import Nominatim\n",
    "geolocator = Nominatim(user_agent = \"practical_3\")"
   ]
  },
  {
   "cell_type": "code",
   "execution_count": 13,
   "id": "e4ea1c96",
   "metadata": {},
   "outputs": [
    {
     "name": "stdout",
     "output_type": "stream",
     "text": [
      "Enter cities: Nagpur Mumbai Pune Akola Amravati\n"
     ]
    }
   ],
   "source": [
    "cities = list(map(str, input(\"Enter cities: \").split()))\n",
    "locations = []\n",
    "for i in cities:\n",
    "    locations.append(geolocator.geocode(i))"
   ]
  },
  {
   "cell_type": "code",
   "execution_count": 14,
   "id": "bbd4dfef",
   "metadata": {},
   "outputs": [],
   "source": [
    "coordinates = dict()\n",
    "for i in locations:\n",
    "    coordinates[i.address.split(',')[0]] = [i.latitude, i.longitude]"
   ]
  },
  {
   "cell_type": "code",
   "execution_count": 15,
   "id": "a91accf9",
   "metadata": {},
   "outputs": [
    {
     "data": {
      "text/plain": [
       "{'Nagpur': [21.1498134, 79.0820556],\n",
       " 'Mumbai Suburban': [19.0785451, 72.878176],\n",
       " 'Pune City': [18.521428, 73.8544541],\n",
       " 'Akola': [20.76181225, 77.1921156663574],\n",
       " 'Amravati': [21.15454115, 77.64429617998744]}"
      ]
     },
     "execution_count": 15,
     "metadata": {},
     "output_type": "execute_result"
    }
   ],
   "source": [
    "coordinates"
   ]
  },
  {
   "cell_type": "code",
   "execution_count": 16,
   "id": "c71c57b5",
   "metadata": {},
   "outputs": [],
   "source": [
    "from geopy.distance import geodesic\n",
    "distances = [[0]*len(cities) for _ in range(len(cities))]\n",
    "i1 = 0\n",
    "j1 = 0\n",
    "for i in coordinates.keys():\n",
    "    j1 = 0\n",
    "#     print(i1)\n",
    "    for j in coordinates.keys():\n",
    "#         print(j1)\n",
    "        if i == j:\n",
    "            distances[i1][j1] = 999999.9\n",
    "        else:\n",
    "            distances[i1][j1] = geodesic(coordinates[i], coordinates[j]).miles\n",
    "        j1 += 1\n",
    "    i1 += 1"
   ]
  },
  {
   "cell_type": "code",
   "execution_count": 17,
   "id": "09da26b0",
   "metadata": {},
   "outputs": [
    {
     "name": "stdout",
     "output_type": "stream",
     "text": [
      "[999999.9, 427.50202366902516, 385.2763086761522, 125.01586557857478, 92.79109381977645]\n",
      "[427.50202366902516, 999999.9, 74.55029367126821, 303.5807011596681, 340.9961354641908]\n",
      "[385.2763086761522, 74.55029367126821, 999999.9, 266.55729508861265, 306.00975166427065]\n",
      "[125.01586557857478, 303.5807011596681, 266.55729508861265, 999999.9, 39.79746289452395]\n",
      "[92.79109381977645, 340.9961354641908, 306.00975166427065, 39.79746289452395, 999999.9]\n"
     ]
    }
   ],
   "source": [
    "for i in range (len(cities)):\n",
    "    print(distances[i])"
   ]
  },
  {
   "cell_type": "code",
   "execution_count": 18,
   "id": "af0a4d4b",
   "metadata": {},
   "outputs": [],
   "source": [
    "#prims algorithm \n",
    "import numpy as  np\n",
    "def prims(cost, n, t, near):\n",
    "    #finding best entry k,l\n",
    "    k,l = np.unravel_index(np.argmin(cost), cost.shape)\n",
    "    #np.argmin(arr) finds the index of the minimum element when the array is flattened\n",
    "    #np.unravel_index converts this flattened index to the corresponding index in the original 2D array.\n",
    "    \n",
    "    #filling the best entry in t for TTF\n",
    "    t[0][0] = k\n",
    "    t[0][1] = l\n",
    "    t[0][2] = cost[k][l]\n",
    "    #initialising the near array based on best entry t , l\n",
    "    for i in range (0,n):\n",
    "        if cost[i][l] < cost[i][k]:\n",
    "            near[i] = l\n",
    "        else:\n",
    "            near[i] = k\n",
    "    near[l] = near[k] = 0\n",
    "    #finding j such that near[j] != 0 and cost[j,near[j]] is minimum\n",
    "    for i in range (1,n-1):\n",
    "        minimum = 999999\n",
    "        j = 0\n",
    "        for k in range (n):\n",
    "            if near[k] != 0 and cost[k][near[k]] < minimum:\n",
    "                j = k\n",
    "                minimum = cost[k][near[k]]\n",
    "        #updating t array for TTF\n",
    "        t[i][0] = j\n",
    "        t[i][1] = near[j]\n",
    "        t[i][2] = cost[j][near[j]]\n",
    "        near[j] = 0\n",
    "        #updating near array\n",
    "        for k in range(0,n):\n",
    "            if near[k] != 0 and cost[k][j] < cost[k][near[k]]:\n",
    "                near[k] = j\n",
    "                \n",
    "    #returning result\n",
    "    return t, near"
   ]
  },
  {
   "cell_type": "code",
   "execution_count": 19,
   "id": "65a05c65",
   "metadata": {},
   "outputs": [],
   "source": [
    "#calling prims function\n",
    "n = len(cities)\n",
    "t = [[0]*(3) for _ in range(n-1)]\n",
    "near = [0]*n\n",
    "cost = np.array(distances)\n",
    "t, near = prims(cost, n, t, near)"
   ]
  },
  {
   "cell_type": "code",
   "execution_count": 20,
   "id": "42b32802",
   "metadata": {
    "scrolled": true
   },
   "outputs": [
    {
     "name": "stdout",
     "output_type": "stream",
     "text": [
      "[[3, 4, 39.79746289452395], [0, 4, 92.79109381977645], [2, 3, 266.55729508861265], [1, 2, 74.55029367126821]]\n"
     ]
    }
   ],
   "source": [
    "print(t)"
   ]
  },
  {
   "cell_type": "code",
   "execution_count": 21,
   "id": "0eee8a0f",
   "metadata": {},
   "outputs": [
    {
     "name": "stdout",
     "output_type": "stream",
     "text": [
      "473.69614547418126\n"
     ]
    }
   ],
   "source": [
    "#calculating total distance of connecting offices\n",
    "t_dist = 0\n",
    "for i in range (n-1):\n",
    "    t_dist += t[i][2]\n",
    "print(t_dist)"
   ]
  },
  {
   "cell_type": "code",
   "execution_count": 22,
   "id": "ce2b7444",
   "metadata": {},
   "outputs": [
    {
     "data": {
      "image/png": "[encoded data removed]",
      "text/plain": [
       "<Figure size 640x480 with 1 Axes>"
      ]
     },
     "metadata": {},
     "output_type": "display_data"
    }
   ],
   "source": [
    "#plotting MST\n",
    "import networkx as nx\n",
    "g = nx.Graph()\n",
    "for i in t:\n",
    "    g.add_edge(i[0],i[1])\n",
    "labeldict = {}\n",
    "for i in range(len(cities)):\n",
    "    labeldict[i] = cities[i]\n",
    "nx.draw_circular(g, labels=labeldict, node_color=\"cyan\", with_labels = True)"
   ]
  },
  {
   "cell_type": "markdown",
   "id": "11b5cfb4",
   "metadata": {},
   "source": [
    "Hence, we can find the minimum spanning tree for the given cities"
   ]
  },
  {
   "cell_type": "code",
   "execution_count": null,
   "id": "4b0d7344",
   "metadata": {},
   "outputs": [],
   "source": []
  }
 ],
 "metadata": {
  "kernelspec": {
   "display_name": "Python 3 (ipykernel)",
   "language": "python",
   "name": "python3"
  },
  "language_info": {
   "codemirror_mode": {
    "name": "ipython",
    "version": 3
   },
   "file_extension": ".py",
   "mimetype": "text/x-python",
   "name": "python",
   "nbconvert_exporter": "python",
   "pygments_lexer": "ipython3",
   "version": "3.11.4"
  }
 },
 "nbformat": 4,
 "nbformat_minor": 5
}
