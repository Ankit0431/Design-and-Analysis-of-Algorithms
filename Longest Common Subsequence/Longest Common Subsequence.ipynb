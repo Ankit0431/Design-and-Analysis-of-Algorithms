{
 "cells": [
  {
   "cell_type": "markdown",
   "id": "f48d1797",
   "metadata": {},
   "source": [
    "## Dynamic Programing\n",
    "### Longest Common Subsequence\n",
    "\n",
    "We learn Longest Common Substring algorithm using a real life use case\n",
    "\n",
    "Implement a dynamic algorithm for Longest Common Subsequence (LCS) to find the length and LCS for DNA sequences.\n",
    "DNA sequences can be viewed as strings of A, C, G, and T characters, which represent nucleotides. Finding the similarities between two DNA sequences are an important computation performed in bioinformatics."
   ]
  },
  {
   "cell_type": "code",
   "execution_count": 1,
   "id": "cbd7621d",
   "metadata": {},
   "outputs": [],
   "source": [
    "def input_strings():\n",
    "    a = input(\"Input String 1: \")\n",
    "    b = input(\"Input String 2: \")\n",
    "    return a,b\n",
    "\n",
    "def display_matrix(matrix):\n",
    "    for row in matrix:\n",
    "        for cell in row:\n",
    "            print(f\"{cell[0]}({cell[1]})\", end=\" \")\n",
    "        print()\n",
    "\n",
    "def findLCS(a,b):\n",
    "    m = len(a)\n",
    "    n = len(b)\n",
    "    #creating a 3-D matrix, each dimention [0,'H'] represents the length of the length of LCS and 'H' reprents the following\n",
    "    # H : Hault\n",
    "    # D : Move Diagonal (i-1, j-1)\n",
    "    # U : Move Up (i-1, j)\n",
    "    # S : Move Side (i, j-1)\n",
    "    c = [[[0,'H'] for _ in range(n+1)] for _ in range(m+1)]\n",
    "    for i in range(1,m+1):\n",
    "        for j in range(1,n+1):\n",
    "            if(a[i-1] != b[j-1]):\n",
    "                \n",
    "                if c[i-1][j][0] >= c[i][j-1][0]:\n",
    "                    c[i][j][0] = c[i-1][j][0]\n",
    "                    c[i][j][1] = 'U'\n",
    "                else:\n",
    "                    c[i][j][0] = c[i][j-1][0]\n",
    "                    c[i][j][1] = 'S'\n",
    "            else:\n",
    "                c[i][j][0] = c[i-1][j-1][0] + 1\n",
    "                c[i][j][1] = 'D'\n",
    "    return c\n",
    "\n",
    "def printLCS(a,c,i,j):\n",
    "    if i == 0 or j == 0:\n",
    "        return\n",
    "    if c[i][j][1] == 'D':\n",
    "        printLCS(a,c,i-1,j-1)\n",
    "        print(a[i-1],end=\"\")\n",
    "    else:\n",
    "        if c[i][j][1] == 'U':\n",
    "            printLCS(a,c,i-1,j)\n",
    "        else:\n",
    "            printLCS(a,c,i,j-1)"
   ]
  },
  {
   "cell_type": "code",
   "execution_count": 2,
   "id": "071ddff0",
   "metadata": {},
   "outputs": [
    {
     "name": "stdout",
     "output_type": "stream",
     "text": [
      "How do you want to run the program? 1: User input 2: Sample data ::2\n"
     ]
    }
   ],
   "source": [
    "user = input(\"How do you want to run the program? 1: User input 2: Sample data ::\")\n",
    "if user == '1':\n",
    "    #call function for user input\n",
    "    X,Y = input_strings()\n",
    "else:\n",
    "    #sample data\n",
    "    X = \"AGCCCTAAGGGCTACCTAGCTT\"\n",
    "    Y= \"GACAGCCTACAAGCGTTAGCTTG\""
   ]
  },
  {
   "cell_type": "code",
   "execution_count": 3,
   "id": "878d849e",
   "metadata": {},
   "outputs": [
    {
     "name": "stdout",
     "output_type": "stream",
     "text": [
      "0(H) 0(H) 0(H) 0(H) 0(H) 0(H) 0(H) 0(H) 0(H) 0(H) 0(H) 0(H) 0(H) 0(H) 0(H) 0(H) 0(H) 0(H) 0(H) 0(H) 0(H) 0(H) 0(H) 0(H) \n",
      "0(H) 0(U) 1(D) 1(S) 1(D) 1(S) 1(S) 1(S) 1(S) 1(D) 1(S) 1(D) 1(D) 1(S) 1(S) 1(S) 1(S) 1(S) 1(D) 1(S) 1(S) 1(S) 1(S) 1(S) \n",
      "0(H) 1(D) 1(U) 1(U) 1(U) 2(D) 2(S) 2(S) 2(S) 2(S) 2(S) 2(S) 2(S) 2(D) 2(S) 2(D) 2(S) 2(S) 2(S) 2(D) 2(S) 2(S) 2(S) 2(D) \n",
      "0(H) 1(U) 1(U) 2(D) 2(S) 2(U) 3(D) 3(D) 3(S) 3(S) 3(D) 3(S) 3(S) 3(S) 3(D) 3(S) 3(S) 3(S) 3(S) 3(S) 3(D) 3(S) 3(S) 3(S) \n",
      "0(H) 1(U) 1(U) 2(D) 2(U) 2(U) 3(D) 4(D) 4(S) 4(S) 4(D) 4(S) 4(S) 4(S) 4(D) 4(S) 4(S) 4(S) 4(S) 4(S) 4(D) 4(S) 4(S) 4(S) \n",
      "0(H) 1(U) 1(U) 2(D) 2(U) 2(U) 3(D) 4(D) 4(U) 4(U) 5(D) 5(S) 5(S) 5(S) 5(D) 5(S) 5(S) 5(S) 5(S) 5(S) 5(D) 5(S) 5(S) 5(S) \n",
      "0(H) 1(U) 1(U) 2(U) 2(U) 2(U) 3(U) 4(U) 5(D) 5(S) 5(U) 5(U) 5(U) 5(U) 5(U) 5(U) 6(D) 6(D) 6(S) 6(S) 6(S) 6(D) 6(D) 6(S) \n",
      "0(H) 1(U) 2(D) 2(U) 3(D) 3(S) 3(U) 4(U) 5(U) 6(D) 6(S) 6(D) 6(D) 6(S) 6(S) 6(S) 6(U) 6(U) 7(D) 7(S) 7(S) 7(S) 7(S) 7(S) \n",
      "0(H) 1(U) 2(D) 2(U) 3(D) 3(U) 3(U) 4(U) 5(U) 6(D) 6(U) 7(D) 7(D) 7(S) 7(S) 7(S) 7(S) 7(S) 7(D) 7(U) 7(U) 7(U) 7(U) 7(U) \n",
      "0(H) 1(D) 2(U) 2(U) 3(U) 4(D) 4(S) 4(U) 5(U) 6(U) 6(U) 7(U) 7(U) 8(D) 8(S) 8(D) 8(S) 8(S) 8(S) 8(D) 8(S) 8(S) 8(S) 8(D) \n",
      "0(H) 1(D) 2(U) 2(U) 3(U) 4(D) 4(U) 4(U) 5(U) 6(U) 6(U) 7(U) 7(U) 8(D) 8(U) 9(D) 9(S) 9(S) 9(S) 9(D) 9(S) 9(S) 9(S) 9(D) \n",
      "0(H) 1(D) 2(U) 2(U) 3(U) 4(D) 4(U) 4(U) 5(U) 6(U) 6(U) 7(U) 7(U) 8(D) 8(U) 9(D) 9(U) 9(U) 9(U) 10(D) 10(S) 10(S) 10(S) 10(D) \n",
      "0(H) 1(U) 2(U) 3(D) 3(U) 4(U) 5(D) 5(D) 5(U) 6(U) 7(D) 7(U) 7(U) 8(U) 9(D) 9(U) 9(U) 9(U) 9(U) 10(U) 11(D) 11(S) 11(S) 11(S) \n",
      "0(H) 1(U) 2(U) 3(U) 3(U) 4(U) 5(U) 5(U) 6(D) 6(U) 7(U) 7(U) 7(U) 8(U) 9(U) 9(U) 10(D) 10(D) 10(S) 10(U) 11(U) 12(D) 12(D) 12(S) \n",
      "0(H) 1(U) 2(D) 3(U) 4(D) 4(U) 5(U) 5(U) 6(U) 7(D) 7(U) 8(D) 8(D) 8(U) 9(U) 9(U) 10(U) 10(U) 11(D) 11(S) 11(U) 12(U) 12(U) 12(U) \n",
      "0(H) 1(U) 2(U) 3(D) 4(U) 4(U) 5(D) 6(D) 6(U) 7(U) 8(D) 8(U) 8(U) 8(U) 9(D) 9(U) 10(U) 10(U) 11(U) 11(U) 12(D) 12(U) 12(U) 12(U) \n",
      "0(H) 1(U) 2(U) 3(D) 4(U) 4(U) 5(D) 6(D) 6(U) 7(U) 8(D) 8(U) 8(U) 8(U) 9(D) 9(U) 10(U) 10(U) 11(U) 11(U) 12(D) 12(U) 12(U) 12(U) \n",
      "0(H) 1(U) 2(U) 3(U) 4(U) 4(U) 5(U) 6(U) 7(D) 7(U) 8(U) 8(U) 8(U) 8(U) 9(U) 9(U) 10(D) 11(D) 11(U) 11(U) 12(U) 13(D) 13(D) 13(S) \n",
      "0(H) 1(U) 2(D) 3(U) 4(D) 4(U) 5(U) 6(U) 7(U) 8(D) 8(U) 9(D) 9(D) 9(S) 9(U) 9(U) 10(U) 11(U) 12(D) 12(S) 12(U) 13(U) 13(U) 13(U) \n",
      "0(H) 1(D) 2(U) 3(U) 4(U) 5(D) 5(U) 6(U) 7(U) 8(U) 8(U) 9(U) 9(U) 10(D) 10(S) 10(D) 10(U) 11(U) 12(U) 13(D) 13(S) 13(U) 13(U) 14(D) \n",
      "0(H) 1(U) 2(U) 3(D) 4(U) 5(U) 6(D) 6(D) 7(U) 8(U) 9(D) 9(U) 9(U) 10(U) 11(D) 11(S) 11(S) 11(U) 12(U) 13(U) 14(D) 14(S) 14(S) 14(U) \n",
      "0(H) 1(U) 2(U) 3(U) 4(U) 5(U) 6(U) 6(U) 7(D) 8(U) 9(U) 9(U) 9(U) 10(U) 11(U) 11(U) 12(D) 12(D) 12(U) 13(U) 14(U) 15(D) 15(D) 15(S) \n",
      "0(H) 1(U) 2(U) 3(U) 4(U) 5(U) 6(U) 6(U) 7(D) 8(U) 9(U) 9(U) 9(U) 10(U) 11(U) 11(U) 12(D) 13(D) 13(S) 13(U) 14(U) 15(D) 16(D) 16(S) \n"
     ]
    }
   ],
   "source": [
    "#calling function to create the LCS matrix\n",
    "c = findLCS(X,Y)\n",
    "#displaying the matrix created by the LCS function\n",
    "display_matrix(c)"
   ]
  },
  {
   "cell_type": "code",
   "execution_count": 8,
   "id": "fd5b7d2e",
   "metadata": {},
   "outputs": [
    {
     "name": "stdout",
     "output_type": "stream",
     "text": [
      "AGCCCAAGGTTAGCTT\n",
      "Length of Subsequence: 16\n"
     ]
    }
   ],
   "source": [
    "#calling function to print the longest common substring\n",
    "printLCS(X,c,len(X), len(Y))\n",
    "\n",
    "#length of substring\n",
    "print(\"\")\n",
    "print(f\"Length of Subsequence: {c[len(X)][len(Y)][0]}\")"
   ]
  },
  {
   "cell_type": "code",
   "execution_count": null,
   "id": "b1b9f4ec",
   "metadata": {},
   "outputs": [],
   "source": []
  }
 ],
 "metadata": {
  "kernelspec": {
   "display_name": "Python 3 (ipykernel)",
   "language": "python",
   "name": "python3"
  },
  "language_info": {
   "codemirror_mode": {
    "name": "ipython",
    "version": 3
   },
   "file_extension": ".py",
   "mimetype": "text/x-python",
   "name": "python",
   "nbconvert_exporter": "python",
   "pygments_lexer": "ipython3",
   "version": "3.11.4"
  }
 },
 "nbformat": 4,
 "nbformat_minor": 5
}
